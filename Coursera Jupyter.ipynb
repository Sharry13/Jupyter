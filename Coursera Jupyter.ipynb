{
 "cells": [
  {
   "cell_type": "markdown",
   "id": "2ddf1e8d",
   "metadata": {},
   "source": [
    "***World of Data Science*** "
   ]
  },
  {
   "cell_type": "markdown",
   "id": "557d8d86",
   "metadata": {},
   "source": [
    "Data science is a field with intersection of programming, statistics and machine learning algorithms to acheive data-driven insights and as well as \n",
    "presenting them creatively to stakeholders."
   ]
  },
  {
   "cell_type": "markdown",
   "id": "c30ddad0",
   "metadata": {},
   "source": [
    "***Data Science Languages***"
   ]
  },
  {
   "cell_type": "markdown",
   "id": "9b73e277",
   "metadata": {},
   "source": [
    "- Python\n",
    "- R\n",
    "- Ruby\n",
    "- Scala\n",
    "- Julia\n",
    "- Java"
   ]
  },
  {
   "cell_type": "markdown",
   "id": "c004127e",
   "metadata": {},
   "source": [
    "***Data Science Libraries***"
   ]
  },
  {
   "cell_type": "markdown",
   "id": "0c6ed249",
   "metadata": {},
   "source": [
    "* numpy\n",
    "* pandas\n",
    "* matplotlib\n",
    "* seaborn\n",
    "* leaflet\n",
    "* lattice\n",
    "* sci-kit learn(sklearn)"
   ]
  },
  {
   "cell_type": "markdown",
   "id": "0dc9981e",
   "metadata": {},
   "source": [
    "***Data science tools***"
   ]
  },
  {
   "cell_type": "markdown",
   "id": "8cd84d3f",
   "metadata": {},
   "source": [
    "| Tools category | Name |\n",
    "| -------------| ------ |\n",
    "| Data management | MySQL |\n",
    "| Data management | PostgreSQL |\n",
    "| Data management | NoSQL |\n",
    "| Data management | Apache CouchDB |\n",
    "| Data management | Apache Cassandra |\n",
    "| Data management | MongoDB |\n",
    "| Data integration | Apache Kafka |\n",
    "| Data integration | Apache Nifi |\n",
    "| Data integration | Apache Airflow |\n",
    "| Data integration | Apache Kubeflow |\n",
    "| Code management | Git |\n",
    "| Code management | Github |\n",
    "| Code management | Gitlab |\n",
    "| Code management | BitBucket |\n",
    "| Data visulaization | Pixiedust |\n",
    "| Data visulaization | Hue\n",
    "| Data visulaization | Kibana |\n",
    "| Model deployment | Apache |\n",
    "| Model deployment | Tensorflow service |\n",
    "| Model deployment | Tensorflow lite |\n",
    "| Model deployment | Tensorflow DotJS |\n",
    "| Model deployment | Kubernetes |\n",
    "| Model deployment | RedHat |"
   ]
  },
  {
   "cell_type": "markdown",
   "id": "dc24f30a",
   "metadata": {},
   "source": [
    "***Arithmetic operations***"
   ]
  },
  {
   "cell_type": "markdown",
   "id": "07c9dc9d",
   "metadata": {},
   "source": [
    "***addition***"
   ]
  },
  {
   "cell_type": "code",
   "execution_count": 11,
   "id": "6d3c815f",
   "metadata": {},
   "outputs": [
    {
     "name": "stdout",
     "output_type": "stream",
     "text": [
      "12\n"
     ]
    }
   ],
   "source": [
    "result=10+2\n",
    "print(result)"
   ]
  },
  {
   "cell_type": "markdown",
   "id": "829ea377",
   "metadata": {},
   "source": [
    "***subtraction***"
   ]
  },
  {
   "cell_type": "code",
   "execution_count": 12,
   "id": "307f834e",
   "metadata": {},
   "outputs": [
    {
     "name": "stdout",
     "output_type": "stream",
     "text": [
      "8\n"
     ]
    }
   ],
   "source": [
    "result=10-2\n",
    "print(result)"
   ]
  },
  {
   "cell_type": "markdown",
   "id": "2c4950b2",
   "metadata": {},
   "source": [
    "***multiplication***"
   ]
  },
  {
   "cell_type": "code",
   "execution_count": 13,
   "id": "f0b95210",
   "metadata": {},
   "outputs": [
    {
     "name": "stdout",
     "output_type": "stream",
     "text": [
      "20\n"
     ]
    }
   ],
   "source": [
    "result=10*2\n",
    "print(result)"
   ]
  },
  {
   "cell_type": "markdown",
   "id": "ff4986bc",
   "metadata": {},
   "source": [
    "***power***"
   ]
  },
  {
   "cell_type": "code",
   "execution_count": 14,
   "id": "1a8242f4",
   "metadata": {},
   "outputs": [
    {
     "name": "stdout",
     "output_type": "stream",
     "text": [
      "125\n"
     ]
    }
   ],
   "source": [
    "result=5**3\n",
    "print(result)"
   ]
  },
  {
   "cell_type": "markdown",
   "id": "2fa321b3",
   "metadata": {},
   "source": [
    "***division***"
   ]
  },
  {
   "cell_type": "code",
   "execution_count": 19,
   "id": "57cf2b6f",
   "metadata": {},
   "outputs": [
    {
     "name": "stdout",
     "output_type": "stream",
     "text": [
      "2\n"
     ]
    }
   ],
   "source": [
    "result=10%4\n",
    "print(result)"
   ]
  },
  {
   "cell_type": "markdown",
   "id": "8b35863a",
   "metadata": {},
   "source": [
    "***multiply and add integers***"
   ]
  },
  {
   "cell_type": "code",
   "execution_count": 18,
   "id": "dc32c3ec",
   "metadata": {},
   "outputs": [
    {
     "name": "stdout",
     "output_type": "stream",
     "text": [
      "26\n"
     ]
    }
   ],
   "source": [
    "result=10*2+6\n",
    "print(result)"
   ]
  },
  {
   "cell_type": "markdown",
   "id": "9d8b07b7",
   "metadata": {},
   "source": [
    "***mins to hours conversion***"
   ]
  },
  {
   "cell_type": "code",
   "execution_count": 16,
   "id": "175a0dff",
   "metadata": {},
   "outputs": [
    {
     "data": {
      "text/plain": [
       "3.0"
      ]
     },
     "execution_count": 16,
     "metadata": {},
     "output_type": "execute_result"
    }
   ],
   "source": [
    "minutes=180\n",
    "hours=minutes/60\n",
    "hours"
   ]
  },
  {
   "cell_type": "markdown",
   "id": "6fef179c",
   "metadata": {},
   "source": [
    "***Objectives***"
   ]
  },
  {
   "cell_type": "markdown",
   "id": "93939c5a",
   "metadata": {},
   "source": [
    "- To gain in-depth knowledge of the fundamentals\n",
    "- To have a crystal clear clarity of programming\n",
    "- To know how to start and approach the initial stages of working with jupyter and data science"
   ]
  },
  {
   "cell_type": "markdown",
   "id": "b13d0537",
   "metadata": {},
   "source": [
    "***authors***"
   ]
  },
  {
   "cell_type": "markdown",
   "id": "bdd7adfd",
   "metadata": {},
   "source": [
    "- Lakshmi Holla\n",
    "- Malika Singla"
   ]
  },
  {
   "cell_type": "code",
   "execution_count": null,
   "id": "ea15d2b5",
   "metadata": {},
   "outputs": [],
   "source": []
  }
 ],
 "metadata": {
  "kernelspec": {
   "display_name": "Python 3 (ipykernel)",
   "language": "python",
   "name": "python3"
  },
  "language_info": {
   "codemirror_mode": {
    "name": "ipython",
    "version": 3
   },
   "file_extension": ".py",
   "mimetype": "text/x-python",
   "name": "python",
   "nbconvert_exporter": "python",
   "pygments_lexer": "ipython3",
   "version": "3.11.3"
  }
 },
 "nbformat": 4,
 "nbformat_minor": 5
}
